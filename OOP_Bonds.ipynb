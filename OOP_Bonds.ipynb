{
  "nbformat": 4,
  "nbformat_minor": 0,
  "metadata": {
    "colab": {
      "provenance": [],
      "toc_visible": true,
      "include_colab_link": true
    },
    "kernelspec": {
      "name": "python3",
      "display_name": "Python 3"
    },
    "language_info": {
      "name": "python"
    }
  },
  "cells": [
    {
      "cell_type": "markdown",
      "metadata": {
        "id": "view-in-github",
        "colab_type": "text"
      },
      "source": [
        "<a href=\"https://colab.research.google.com/github/yolanda-song/hw1/blob/main/OOP_Bonds.ipynb\" target=\"_parent\"><img src=\"https://colab.research.google.com/assets/colab-badge.svg\" alt=\"Open In Colab\"/></a>"
      ]
    },
    {
      "cell_type": "markdown",
      "source": [
        "# Random Bond Class"
      ],
      "metadata": {
        "id": "rdwnrJanBVJ2"
      }
    },
    {
      "cell_type": "code",
      "source": [
        "# Bond\n",
        "# Automatic population of attributes\n",
        "\n",
        "import numpy as np\n",
        "\n",
        "class bond:\n",
        "    def __init__(self):\n",
        "        self.face = (round(np.random.uniform()*10,0)+1)*1e6\n",
        "        self.couponRate = round(np.random.uniform()/3,3)\n",
        "        self.pmtperyear = int(round(np.random.uniform(),0)+1)\n",
        "        self.m = int(round(np.random.uniform()*10,0))\n",
        "        self.ytm = round(np.random.uniform()/3,3)\n",
        "        self.m = round(np.random.uniform()*5+5)\n",
        "        self.price = 0\n",
        "        self.duration = 0\n",
        "    def __repr__(self):\n",
        "        return \"{},{},{},{}\".format(self.face,self.ytm,self.couponRate,self.m)\n",
        "\n",
        "b1 = bond()\n",
        "print(b1)"
      ],
      "metadata": {
        "colab": {
          "base_uri": "https://localhost:8080/"
        },
        "id": "rffLJ3nN8_F_",
        "outputId": "fce8584b-cf55-454a-9c33-ab6273ce065a"
      },
      "execution_count": null,
      "outputs": [
        {
          "output_type": "stream",
          "name": "stdout",
          "text": [
            "2000000.0,0.133,0.148,5\n"
          ]
        }
      ]
    },
    {
      "cell_type": "code",
      "source": [
        "# Bond\n",
        "# Automatic population of attributes\n",
        "# Assign function available to set attributes\n",
        "\n",
        "class bond:\n",
        "    def __init__(self):\n",
        "        self.face = (round(np.random.uniform()*10,0)+1)*1e6\n",
        "        self.couponrate = round(np.random.uniform()/3,3)\n",
        "        self.pmtperyear = int(round(np.random.uniform(),0)+1)\n",
        "        self.m = int(round(np.random.uniform()*10,0))\n",
        "        self.ytm = round(np.random.uniform()/3,3)\n",
        "        self.m = round(np.random.uniform()*5+5)\n",
        "        self.price = 0\n",
        "        self.duration = 0\n",
        "    def __repr__(self):\n",
        "        return \"{},{},{},{}\".format(self.face,self.ytm,self.couponrate,self.m)\n",
        "    def Assign(self,face,couponrate,m,ytm,pmtperyear):\n",
        "        self.face = face\n",
        "        self.couponrate = couponrate\n",
        "        self.pmtperyear = pmtperyear\n",
        "        self.m = m\n",
        "        self.ytm = ytm\n",
        "\n",
        "b2 = bond()\n",
        "print(b2)\n",
        "b2.Assign(2e6,.03,.04,100,1)\n",
        "print(b2)\n",
        "\n"
      ],
      "metadata": {
        "colab": {
          "base_uri": "https://localhost:8080/"
        },
        "id": "E2LzwQdEKuBI",
        "outputId": "6b5d40d1-5646-4af8-c76c-023312fb3895"
      },
      "execution_count": null,
      "outputs": [
        {
          "output_type": "stream",
          "name": "stdout",
          "text": [
            "5000000.0,0.249,0.29,8\n",
            "2000000.0,100,0.03,0.04\n"
          ]
        }
      ]
    },
    {
      "cell_type": "code",
      "source": [
        "# Bond\n",
        "# Automatic population of attributes\n",
        "# Assign function available to set attributes\n",
        "# Methods for price and duration\n",
        "\n",
        "class bond:\n",
        "    def __init__(self):\n",
        "        self.face = (round(np.random.uniform()*10,0)+1)*1e6\n",
        "        self.couponrate = round(np.random.uniform()/3,3)\n",
        "        self.pmtperyear = int(round(np.random.uniform(),0)+1)\n",
        "        self.m = int(round(np.random.uniform()*10,0))\n",
        "        self.ytm = round(np.random.uniform()/3,3)\n",
        "        self.m = round(np.random.uniform()*5+5)\n",
        "        self.price = 0\n",
        "        self.duration = 0\n",
        "    def __repr__(self):\n",
        "        return \"{},{},{},{},{},{}\".format(self.face,self.ytm,self.couponrate,self.m,round(self.price,2),round(self.duration,2))\n",
        "    def Assign(self,face,ytm,couponrate,m,pmtperyear):\n",
        "        self.face = face\n",
        "        self.couponrate = couponrate\n",
        "        self.pmtperyear = pmtperyear\n",
        "        self.m = m\n",
        "        self.ytm = ytm\n",
        "    def getPrice(self):\n",
        "        face = self.face\n",
        "        couponrate = self.couponrate\n",
        "        pmtperyear = self.pmtperyear\n",
        "        m = self.m\n",
        "        y = self.ytm\n",
        "\n",
        "        C = face * couponrate / pmtperyear\n",
        "        n = m * pmtperyear\n",
        "        y_eff = y/pmtperyear\n",
        "        B = 0\n",
        "        for i in range(1,n+1):\n",
        "            pv = (1+y_eff)**(-i)\n",
        "            B_i = C * pv\n",
        "            B += B_i\n",
        "        B += face * pv\n",
        "        self.price = B\n",
        "    def getDuration(self):\n",
        "        face = self.face\n",
        "        couponrate = self.couponrate\n",
        "        pmtperyear = self.pmtperyear\n",
        "        m = self.m\n",
        "        y = self.ytm\n",
        "        C = face * couponrate / pmtperyear\n",
        "        n = m * pmtperyear\n",
        "        y_eff = y/pmtperyear\n",
        "        B = 0\n",
        "        Btime = 0\n",
        "        for i in range(1,n+1):\n",
        "            pv = (1+y_eff)**(-i)\n",
        "            B_i = C * pv\n",
        "            B += B_i\n",
        "            Btime_i = i * B_i\n",
        "            Btime += Btime_i\n",
        "        B += face * pv\n",
        "        Btime += face * pv * i\n",
        "        self.duration = Btime/B\n",
        "\n",
        "b3 = bond()\n",
        "b3.Assign(2e6,.03,.04,10,1)\n",
        "print(b3.price)\n",
        "b3.getPrice()\n",
        "print(b3.price)\n",
        "b3.getDuration()\n",
        "print(b3.duration)"
      ],
      "metadata": {
        "colab": {
          "base_uri": "https://localhost:8080/"
        },
        "id": "svzrrclX9ckI",
        "outputId": "6a0dd9e3-7e7d-410e-a8d0-0ffd7f74a226"
      },
      "execution_count": null,
      "outputs": [
        {
          "output_type": "stream",
          "name": "stdout",
          "text": [
            "0\n",
            "2170604.0567355165\n",
            "8.508690304459574\n"
          ]
        }
      ]
    },
    {
      "cell_type": "code",
      "source": [
        "# Create a portfolio of bonds\n",
        "\n",
        "bonds = []\n",
        "n = 5\n",
        "for i in range(n):\n",
        "    bonds.append(bond())\n",
        "\n",
        "#%%\n",
        "for b in bonds:\n",
        "    print(b)"
      ],
      "metadata": {
        "colab": {
          "base_uri": "https://localhost:8080/"
        },
        "id": "MrehW3az-OCB",
        "outputId": "df01f9ce-d5f5-4558-e2a6-d87054a2bb9c"
      },
      "execution_count": null,
      "outputs": [
        {
          "output_type": "stream",
          "name": "stdout",
          "text": [
            "2000000.0,0.016,0.311,7,0,0\n",
            "11000000.0,0.041,0.304,9,0,0\n",
            "5000000.0,0.058,0.153,6,0,0\n",
            "3000000.0,0.27,0.181,6,0,0\n",
            "11000000.0,0.08,0.236,6,0,0\n"
          ]
        }
      ]
    },
    {
      "cell_type": "code",
      "source": [
        "# Create a portfolio of bonds\n",
        "# Get price and duration of bonds\n",
        "\n",
        "#%%\n",
        "for b in bonds:\n",
        "    b.getPrice()\n",
        "    b.getDuration()\n",
        "\n",
        "#%%\n",
        "for b in bonds:\n",
        "    print(b)\n"
      ],
      "metadata": {
        "colab": {
          "base_uri": "https://localhost:8080/"
        },
        "id": "3AkkYpkM-Sa9",
        "outputId": "e79fb23f-6d9d-4bfc-a13d-cffa7df8ec6e"
      },
      "execution_count": null,
      "outputs": [
        {
          "output_type": "stream",
          "name": "stdout",
          "text": [
            "2000000.0,0.016,0.311,7,5892423.42,9.38\n",
            "11000000.0,0.041,0.304,9,32590940.66,11.07\n",
            "5000000.0,0.058,0.153,6,7378250.49,8.97\n",
            "3000000.0,0.27,0.181,6,2246792.44,3.84\n",
            "11000000.0,0.08,0.236,6,19052393.29,8.19\n"
          ]
        }
      ]
    },
    {
      "cell_type": "code",
      "source": [
        "# Calculated portfolio duration\n",
        "\n",
        "def PortfolioDuration(bonds):\n",
        "    num = 0\n",
        "    den = 0\n",
        "    for x in bonds:\n",
        "        D_i = x.duration\n",
        "        w_i = x.price\n",
        "        num += D_i * w_i\n",
        "        den += w_i\n",
        "    duration = num/den\n",
        "    return(duration)\n",
        "\n",
        "print(PortfolioDuration(bonds))\n"
      ],
      "metadata": {
        "colab": {
          "base_uri": "https://localhost:8080/"
        },
        "id": "xBPyIQLLL9G3",
        "outputId": "22c34448-c7ca-4dd4-ff42-bdbc3df9c8c6"
      },
      "execution_count": null,
      "outputs": [
        {
          "output_type": "stream",
          "name": "stdout",
          "text": [
            "9.63267351159472\n"
          ]
        }
      ]
    },
    {
      "cell_type": "markdown",
      "source": [
        "# Inheritance"
      ],
      "metadata": {
        "id": "8K_9LxjSEKXf"
      }
    },
    {
      "cell_type": "code",
      "source": [
        "# Demo of Inheritance\n",
        "# Create a class buy building on a previous one\n",
        "\n",
        "class Car:\n",
        "    def __init__(self, make, model, year):\n",
        "        self.make = make\n",
        "        self.model = model\n",
        "        self.year = year\n",
        "        self.mileage = 0\n",
        "\n",
        "class ElectricCar(Car):\n",
        "    def __init__(self, make, model, year, battery_size):\n",
        "        super().__init__(make, model, year)\n",
        "        self.battery_size = battery_size\n"
      ],
      "metadata": {
        "id": "TH5wX1x2EMVg"
      },
      "execution_count": null,
      "outputs": []
    },
    {
      "cell_type": "markdown",
      "source": [
        "# Questions\n",
        "Study the example of Inheritance above.<br>\n",
        "Study the basics of [convertible bonds](https://www.investopedia.com/terms/c/convertiblebond.asp)\n"
      ],
      "metadata": {
        "id": "AsDeDCHKtExh"
      }
    },
    {
      "cell_type": "markdown",
      "source": [
        "# Q1 Update Bond Class\n",
        "\n",
        "Create a new version of the bond class <br>\n",
        "- Make it so that the bond requries values to be passed to it when it's initialized.  \n",
        "- This does the same work that the Assign method does.\n",
        "- Remove the Assign method. <br>\n",
        "\n"
      ],
      "metadata": {
        "id": "HAXiESfcQRiC"
      }
    },
    {
      "cell_type": "code",
      "source": [],
      "metadata": {
        "id": "zqR7bHXAMFdm"
      },
      "execution_count": null,
      "outputs": []
    },
    {
      "cell_type": "markdown",
      "source": [
        "# Q2 Create Convertible Class\n",
        "\n",
        "\n",
        "Create a new class that inherits from the bond class. <br>\n",
        "- This means that the new class builds on the previous one. <br>\n",
        "- Use the code below to create a new class called convertible bond.<br>\n",
        "\n",
        "The class declaration must have the class it builds on as an argmument.\n",
        "- class convertible(bond):<br>\n",
        "\n",
        "The initialization function of the new class must take in all the arguments of the original bond class plus any new attributes.\n",
        "- The old attributes are face,ytm,couponrate,m,pmtperyear\n",
        "- Please add this new attribute: conversion_ratio\n",
        "\n",
        "Use the initialization function of the original bond class to build the part of the new class that uses the bond class.<br>Send all of the arguments that build the original bond function to\n",
        "- super().__init__(<ARGUMENTS>)\n",
        "\n",
        "Initialize the values of the new arguments to the new class.\n",
        "- self.conversion_ratio = conversion_ratio\n",
        "\n",
        "\n",
        "\n",
        "\n"
      ],
      "metadata": {
        "id": "pc-kE-EyAH0r"
      }
    },
    {
      "cell_type": "code",
      "source": [],
      "metadata": {
        "id": "mclOeXmsNHlx"
      },
      "execution_count": null,
      "outputs": []
    },
    {
      "cell_type": "markdown",
      "source": [
        "# Q3 Estimate num_bonds\n",
        "Study this [link](https://www.investopedia.com/terms/c/conversionratio.asp)<br>\n",
        "Get the number of bonds<br>\n",
        "- Recall that a bond is generally set to $1000 face amount\n",
        "- Create a new attribute to be calculated an initialization\n",
        "- self.num_bonds = self.face/1000\n",
        "\n",
        "We can think of the overall bond face amount and price as the value of the overall position."
      ],
      "metadata": {
        "id": "g9myB82FwOa2"
      }
    },
    {
      "cell_type": "code",
      "source": [],
      "metadata": {
        "id": "Jza5PcpD-GWc"
      },
      "execution_count": null,
      "outputs": []
    },
    {
      "cell_type": "markdown",
      "source": [
        "# Q4 Estimate Conversion Ratio\n",
        "Create a method that calculates the conversion market value.<br>\n",
        "The market value equals the number of bonds times the conversion ratio * the market price.<br>\n",
        "The market price is an argument to the method.<br>\n",
        "\n",
        "getConversionValue(stock_price) = # Your work here"
      ],
      "metadata": {
        "id": "chADSsf-8RlX"
      }
    },
    {
      "cell_type": "code",
      "source": [],
      "metadata": {
        "id": "4mqiI-fLwNyz"
      },
      "execution_count": null,
      "outputs": []
    },
    {
      "cell_type": "markdown",
      "source": [
        "# Q5 Estimate Equity Conversion Price\n",
        "Create a method that calculates the parity stock price.<br>\n",
        "The method returns the stock price that matches the current value of the overall bond position.<br>\n",
        "getConversionPrice() = # Your work here"
      ],
      "metadata": {
        "id": "czOyuAuLDUF3"
      }
    },
    {
      "cell_type": "code",
      "source": [],
      "metadata": {
        "id": "caYWDjoSRyZ8"
      },
      "execution_count": null,
      "outputs": []
    }
  ]
}